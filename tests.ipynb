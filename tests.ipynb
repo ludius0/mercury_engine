{
 "cells": [
  {
   "cell_type": "markdown",
   "id": "bfd16d53",
   "metadata": {},
   "source": [
    "# Testing examples"
   ]
  },
  {
   "cell_type": "code",
   "execution_count": 1,
   "id": "a45afdb9",
   "metadata": {},
   "outputs": [],
   "source": [
    "from engine import Value"
   ]
  },
  {
   "cell_type": "markdown",
   "id": "082cb4a3",
   "metadata": {},
   "source": [
    "### [Example 1](https://github.com/karpathy/micrograd/blob/master/README.md): computing gradient"
   ]
  },
  {
   "cell_type": "markdown",
   "id": "53da0b1a",
   "metadata": {},
   "source": [
    "#### Numerical values of:\n",
    "    \n",
    "    g should be 24.70408\n",
    "    dg/da should be 138.83382\n",
    "    dg/db should be 645.57726"
   ]
  },
  {
   "cell_type": "code",
   "execution_count": 2,
   "id": "687e796f",
   "metadata": {},
   "outputs": [
    {
     "name": "stdout",
     "output_type": "stream",
     "text": [
      "24.70408\n",
      "138.83382\n",
      "645.57726\n"
     ]
    }
   ],
   "source": [
    "a = Value(-4.0)\n",
    "b = Value(2.0)\n",
    "c = a + b\n",
    "d = a * b\n",
    "d += b**3\n",
    "c += c + 1\n",
    "c += 1 + c + (-a)\n",
    "d += d * 2\n",
    "d += (b + a).relu()\n",
    "d += 3 * d + (b - a).relu()\n",
    "e = c - d\n",
    "f = e**2\n",
    "g = f / 2.0\n",
    "g += 10.0 / f\n",
    "print(f'{g.data:.5f}')\n",
    "g.backward()\n",
    "print(f'{a.grad:.5f}')\n",
    "print(f'{b.grad:.5f}')"
   ]
  },
  {
   "cell_type": "markdown",
   "id": "2d5d1f26",
   "metadata": {},
   "source": [
    "### Example 2: Sum iteration"
   ]
  },
  {
   "cell_type": "code",
   "execution_count": 12,
   "id": "7c0e2293",
   "metadata": {},
   "outputs": [
    {
     "name": "stdout",
     "output_type": "stream",
     "text": [
      "Value(3.21000)\n",
      "0.25000\n"
     ]
    }
   ],
   "source": [
    "a = Value(3)\n",
    "b = Value(3.14)\n",
    "c = Value(2.7)\n",
    "d = sum([a, b, c, 4]) / 4\n",
    "print(f'{d:.5f}')\n",
    "d.backward()\n",
    "print(f'{a.grad:.5f}')"
   ]
  },
  {
   "cell_type": "markdown",
   "id": "b7264e03",
   "metadata": {},
   "source": [
    "### [Example 3](https://en.wikipedia.org/wiki/Sigmoid_function): Creating custom function\n",
    "\n",
    "##### Should also work when computing gradient (when suing backward())"
   ]
  },
  {
   "cell_type": "code",
   "execution_count": 35,
   "id": "f8e87ea6",
   "metadata": {},
   "outputs": [
    {
     "name": "stdout",
     "output_type": "stream",
     "text": [
      "Value(1.00000)\n",
      "Value(0.88080)\n",
      "Value(0.11920)\n",
      "Value(4.22222)\n",
      "Value(0.98555)\n"
     ]
    },
    {
     "data": {
      "text/plain": [
       "0.01266232436207003"
      ]
     },
     "execution_count": 35,
     "metadata": {},
     "output_type": "execute_result"
    }
   ],
   "source": [
    "from engine.func_base import Func, setattr_value\n",
    "import math\n",
    "\n",
    "class Sigmoid(Func):\n",
    "    @staticmethod\n",
    "    def forward(ctx, x):\n",
    "        out = math.exp(x)/(1 + math.exp(x))\n",
    "        ctx.saved_values.extend([out])\n",
    "        return out\n",
    "\n",
    "    @staticmethod\n",
    "    def backward(ctx, grad_output):\n",
    "        out, = ctx.saved_values\n",
    "        grad_input = grad_output * (out * (1 - out))\n",
    "        return grad_input\n",
    "setattr_value(Sigmoid)\n",
    "\n",
    "print(f'{Value(45).sigmoid():.5f}')\n",
    "print(f'{Value(2).sigmoid():.5f}')\n",
    "print(f'{Value(-1.99999).sigmoid():.5f}')\n",
    "# print('='*10, 'COMPUTE GRADIENT', '='*10)\n",
    "a = Value(4)\n",
    "b = Value(-2)\n",
    "b += Value(2)**3\n",
    "c = a * b + a\n",
    "d = (a + b + c) / 9\n",
    "print(f'{d:.5f}')\n",
    "e = d.sigmoid()\n",
    "print(f'{e:.5f}')\n",
    "e.backward()\n",
    "a.grad"
   ]
  },
  {
   "cell_type": "markdown",
   "id": "daed2e57",
   "metadata": {},
   "source": [
    "### Example 4: Complex numbers\n",
    "##### doesn't work for all cases (for ex: conjugate or pow)"
   ]
  },
  {
   "cell_type": "code",
   "execution_count": 41,
   "id": "714c63f6",
   "metadata": {},
   "outputs": [
    {
     "name": "stdout",
     "output_type": "stream",
     "text": [
      "Value(-4.0+2.0j)\n",
      "1.0\n"
     ]
    }
   ],
   "source": [
    "a = Value(-4.0 + 3j)\n",
    "b = Value(2.0 - 1j)\n",
    "c = a - b\n",
    "d = a + b + 4 - Value(3)*Value(2)\n",
    "c -= c + 1\n",
    "print(f'{d:.1f}')\n",
    "d.backward()\n",
    "print(f'{b.grad:.1f}')"
   ]
  },
  {
   "cell_type": "code",
   "execution_count": null,
   "id": "57686b6e",
   "metadata": {},
   "outputs": [],
   "source": []
  }
 ],
 "metadata": {
  "kernelspec": {
   "display_name": "Python 3",
   "language": "python",
   "name": "python3"
  },
  "language_info": {
   "codemirror_mode": {
    "name": "ipython",
    "version": 3
   },
   "file_extension": ".py",
   "mimetype": "text/x-python",
   "name": "python",
   "nbconvert_exporter": "python",
   "pygments_lexer": "ipython3",
   "version": "3.8.8"
  }
 },
 "nbformat": 4,
 "nbformat_minor": 5
}
